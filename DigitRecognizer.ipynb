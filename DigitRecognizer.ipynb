{
 "cells": [
  {
   "cell_type": "markdown",
   "metadata": {},
   "source": [
    "# Import the Models"
   ]
  },
  {
   "cell_type": "code",
   "execution_count": 2,
   "metadata": {},
   "outputs": [],
   "source": [
    "# Import the models\n",
    "import pandas as pd\n",
    "import tensorflow as tf\n",
    "import seaborn as sns\n",
    "import matplotlib.pyplot as plt\n",
    "import numpy as np\n",
    "%matplotlib inline\n",
    "\n",
    "from keras.preprocessing.image import ImageDataGenerator\n",
    "from keras.utils.np_utils import to_categorical\n",
    "from sklearn.model_selection import train_test_split\n",
    "from keras.callbacks import ReduceLROnPlateau, EarlyStopping\n",
    "from keras.models import Sequential\n",
    "from keras.layers import Dense, Dropout, Flatten, Conv2D, MaxPool2D"
   ]
  },
  {
   "cell_type": "markdown",
   "metadata": {},
   "source": [
    "# Load the Data"
   ]
  },
  {
   "cell_type": "code",
   "execution_count": 3,
   "metadata": {},
   "outputs": [],
   "source": [
    "# Load the data\n",
    "train = pd.read_csv(\"train.csv\")\n",
    "test = pd.read_csv(\"test.csv\")\n",
    "\n",
    "y_training = train[\"label\"]\n",
    "X_training = train.drop(labels = [\"label\"], axis = 1)"
   ]
  },
  {
   "cell_type": "code",
   "execution_count": 4,
   "metadata": {},
   "outputs": [
    {
     "name": "stderr",
     "output_type": "stream",
     "text": [
      "C:\\Users\\lauki\\anaconda3\\envs\\tensorflow-gpu\\lib\\site-packages\\seaborn\\_decorators.py:43: FutureWarning: Pass the following variable as a keyword arg: x. From version 0.12, the only valid positional argument will be `data`, and passing other arguments without an explicit keyword will result in an error or misinterpretation.\n",
      "  FutureWarning\n"
     ]
    },
    {
     "data": {
      "text/plain": [
       "1    4684\n",
       "7    4401\n",
       "3    4351\n",
       "9    4188\n",
       "2    4177\n",
       "6    4137\n",
       "0    4132\n",
       "4    4072\n",
       "8    4063\n",
       "5    3795\n",
       "Name: label, dtype: int64"
      ]
     },
     "execution_count": 4,
     "metadata": {},
     "output_type": "execute_result"
    },
    {
     "data": {
      "image/png": "[encoded data removed]",
      "text/plain": [
       "<Figure size 432x288 with 1 Axes>"
      ]
     },
     "metadata": {
      "needs_background": "light"
     },
     "output_type": "display_data"
    }
   ],
   "source": [
    "g = sns.countplot(y_training)\n",
    "y_training.value_counts()"
   ]
  },
  {
   "cell_type": "markdown",
   "metadata": {},
   "source": [
    "# CNN"
   ]
  },
  {
   "cell_type": "code",
   "execution_count": 5,
   "metadata": {},
   "outputs": [
    {
     "name": "stdout",
     "output_type": "stream",
     "text": [
      "(42000, 784)\n",
      "(42000,)\n",
      "(28000, 784)\n"
     ]
    }
   ],
   "source": [
    "print(X_training.shape)\n",
    "print(y_training.shape)\n",
    "print(test.shape)"
   ]
  },
  {
   "cell_type": "code",
   "execution_count": 6,
   "metadata": {},
   "outputs": [],
   "source": [
    "X_training = X_training / 255.0\n",
    "test = test / 255.0\n",
    "X_training = X_training.values.reshape(-1,28,28,1)\n",
    "test = test.values.reshape(-1,28,28,1)"
   ]
  },
  {
   "cell_type": "code",
   "execution_count": 7,
   "metadata": {},
   "outputs": [],
   "source": [
    "X_train, X_val, y_train, y_val = train_test_split(X_training, y_training, test_size=0.2, random_state=4)"
   ]
  },
  {
   "cell_type": "markdown",
   "metadata": {},
   "source": [
    "### Data Augmentation"
   ]
  },
  {
   "cell_type": "code",
   "execution_count": 8,
   "metadata": {},
   "outputs": [],
   "source": [
    "datagen = ImageDataGenerator(rotation_range = 40,\n",
    "                                   width_shift_range = 0.2,\n",
    "                                   height_shift_range = 0.2,\n",
    "                                   shear_range = 0.2,\n",
    "                                   zoom_range = 0.2,\n",
    "                                   horizontal_flip = True,\n",
    "                                   fill_mode='nearest'\n",
    "                            )\n",
    "datagen.fit(X_train)"
   ]
  },
  {
   "cell_type": "code",
   "execution_count": 9,
   "metadata": {},
   "outputs": [],
   "source": [
    "model = Sequential()\n",
    "\n",
    "model.add(Conv2D(filters = 32, kernel_size = (5,5),padding = 'Same', \n",
    "                 activation ='relu', input_shape = (28,28,1)))\n",
    "model.add(Conv2D(filters = 32, kernel_size = (5,5),padding = 'Same', \n",
    "                 activation ='relu'))\n",
    "model.add(MaxPool2D(pool_size=(2,2)))\n",
    "model.add(Dropout(0.25))\n",
    "\n",
    "\n",
    "model.add(Conv2D(filters = 64, kernel_size = (3,3),padding = 'Same', \n",
    "                 activation ='relu'))\n",
    "model.add(Conv2D(filters = 64, kernel_size = (3,3),padding = 'Same', \n",
    "                 activation ='relu'))\n",
    "model.add(MaxPool2D(pool_size=(2,2), strides=(2,2)))\n",
    "model.add(Dropout(0.25))\n",
    "\n",
    "\n",
    "model.add(Flatten())\n",
    "model.add(Dense(256, activation = \"relu\"))\n",
    "model.add(Dropout(0.25))\n",
    "model.add(Dense(10, activation = \"softmax\"))"
   ]
  },
  {
   "cell_type": "code",
   "execution_count": 10,
   "metadata": {},
   "outputs": [],
   "source": [
    "model.compile(optimizer='adam',\n",
    "              loss='sparse_categorical_crossentropy',\n",
    "              metrics=['accuracy'])"
   ]
  },
  {
   "cell_type": "code",
   "execution_count": 11,
   "metadata": {},
   "outputs": [],
   "source": [
    "learning_rate_reduction = ReduceLROnPlateau(monitor='val_accuracy', \n",
    "                                            patience=3, \n",
    "                                            verbose=1, \n",
    "                                            factor=0.5, \n",
    "                                            min_lr=0.00001)"
   ]
  },
  {
   "cell_type": "code",
   "execution_count": 12,
   "metadata": {},
   "outputs": [
    {
     "name": "stdout",
     "output_type": "stream",
     "text": [
      "(33600, 28, 28, 1)\n",
      "(33600,)\n",
      "(8400, 28, 28, 1)\n",
      "(8400,)\n"
     ]
    }
   ],
   "source": [
    "print(X_train.shape)\n",
    "print(y_train.shape)\n",
    "print(X_val.shape)\n",
    "print(y_val.shape)"
   ]
  },
  {
   "cell_type": "code",
   "execution_count": 13,
   "metadata": {
    "scrolled": false
   },
   "outputs": [
    {
     "name": "stdout",
     "output_type": "stream",
     "text": [
      "Epoch 1/35\n",
      "525/525 - 9s - loss: 1.0699 - accuracy: 0.6382 - val_loss: 0.2523 - val_accuracy: 0.9261 - lr: 0.0010\n",
      "Epoch 2/35\n",
      "525/525 - 9s - loss: 0.4444 - accuracy: 0.8635 - val_loss: 0.1435 - val_accuracy: 0.9568 - lr: 0.0010\n",
      "Epoch 3/35\n",
      "525/525 - 9s - loss: 0.3364 - accuracy: 0.8960 - val_loss: 0.1364 - val_accuracy: 0.9546 - lr: 0.0010\n",
      "Epoch 4/35\n",
      "525/525 - 9s - loss: 0.2805 - accuracy: 0.9152 - val_loss: 0.1167 - val_accuracy: 0.9662 - lr: 0.0010\n",
      "Epoch 5/35\n",
      "525/525 - 9s - loss: 0.2491 - accuracy: 0.9232 - val_loss: 0.1150 - val_accuracy: 0.9661 - lr: 0.0010\n",
      "Epoch 6/35\n",
      "525/525 - 10s - loss: 0.2294 - accuracy: 0.9305 - val_loss: 0.1068 - val_accuracy: 0.9685 - lr: 0.0010\n",
      "Epoch 7/35\n",
      "525/525 - 9s - loss: 0.2107 - accuracy: 0.9345 - val_loss: 0.1013 - val_accuracy: 0.9715 - lr: 0.0010\n",
      "Epoch 8/35\n",
      "525/525 - 9s - loss: 0.2029 - accuracy: 0.9392 - val_loss: 0.0985 - val_accuracy: 0.9702 - lr: 0.0010\n",
      "Epoch 9/35\n",
      "525/525 - 9s - loss: 0.1908 - accuracy: 0.9417 - val_loss: 0.0772 - val_accuracy: 0.9765 - lr: 0.0010\n",
      "Epoch 10/35\n",
      "525/525 - 9s - loss: 0.1835 - accuracy: 0.9446 - val_loss: 0.1005 - val_accuracy: 0.9700 - lr: 0.0010\n",
      "Epoch 11/35\n",
      "525/525 - 10s - loss: 0.1789 - accuracy: 0.9454 - val_loss: 0.0927 - val_accuracy: 0.9726 - lr: 0.0010\n",
      "Epoch 12/35\n",
      "\n",
      "Epoch 00012: ReduceLROnPlateau reducing learning rate to 0.0005000000237487257.\n",
      "525/525 - 9s - loss: 0.1731 - accuracy: 0.9474 - val_loss: 0.0828 - val_accuracy: 0.9764 - lr: 0.0010\n",
      "Epoch 13/35\n",
      "525/525 - 9s - loss: 0.1490 - accuracy: 0.9548 - val_loss: 0.0700 - val_accuracy: 0.9795 - lr: 5.0000e-04\n",
      "Epoch 14/35\n",
      "525/525 - 9s - loss: 0.1372 - accuracy: 0.9579 - val_loss: 0.0656 - val_accuracy: 0.9808 - lr: 5.0000e-04\n",
      "Epoch 15/35\n",
      "525/525 - 10s - loss: 0.1357 - accuracy: 0.9584 - val_loss: 0.0732 - val_accuracy: 0.9786 - lr: 5.0000e-04\n",
      "Epoch 16/35\n",
      "525/525 - 9s - loss: 0.1343 - accuracy: 0.9580 - val_loss: 0.0601 - val_accuracy: 0.9817 - lr: 5.0000e-04\n",
      "Epoch 17/35\n",
      "525/525 - 10s - loss: 0.1338 - accuracy: 0.9593 - val_loss: 0.0660 - val_accuracy: 0.9802 - lr: 5.0000e-04\n",
      "Epoch 18/35\n",
      "525/525 - 9s - loss: 0.1326 - accuracy: 0.9590 - val_loss: 0.0677 - val_accuracy: 0.9795 - lr: 5.0000e-04\n",
      "Epoch 19/35\n",
      "525/525 - 9s - loss: 0.1297 - accuracy: 0.9611 - val_loss: 0.0627 - val_accuracy: 0.9835 - lr: 5.0000e-04\n",
      "Epoch 20/35\n",
      "525/525 - 9s - loss: 0.1234 - accuracy: 0.9613 - val_loss: 0.0633 - val_accuracy: 0.9815 - lr: 5.0000e-04\n",
      "Epoch 21/35\n",
      "525/525 - 9s - loss: 0.1266 - accuracy: 0.9607 - val_loss: 0.0612 - val_accuracy: 0.9823 - lr: 5.0000e-04\n",
      "Epoch 22/35\n",
      "\n",
      "Epoch 00022: ReduceLROnPlateau reducing learning rate to 0.0002500000118743628.\n",
      "525/525 - 9s - loss: 0.1218 - accuracy: 0.9626 - val_loss: 0.0742 - val_accuracy: 0.9793 - lr: 5.0000e-04\n",
      "Epoch 23/35\n",
      "525/525 - 9s - loss: 0.1131 - accuracy: 0.9643 - val_loss: 0.0632 - val_accuracy: 0.9807 - lr: 2.5000e-04\n",
      "Epoch 24/35\n",
      "525/525 - 9s - loss: 0.1101 - accuracy: 0.9659 - val_loss: 0.0625 - val_accuracy: 0.9815 - lr: 2.5000e-04\n",
      "Epoch 25/35\n",
      "\n",
      "Epoch 00025: ReduceLROnPlateau reducing learning rate to 0.0001250000059371814.\n",
      "525/525 - 9s - loss: 0.1091 - accuracy: 0.9670 - val_loss: 0.0561 - val_accuracy: 0.9823 - lr: 2.5000e-04\n",
      "Epoch 26/35\n",
      "525/525 - 9s - loss: 0.1032 - accuracy: 0.9679 - val_loss: 0.0616 - val_accuracy: 0.9815 - lr: 1.2500e-04\n",
      "Epoch 27/35\n",
      "525/525 - 9s - loss: 0.1027 - accuracy: 0.9681 - val_loss: 0.0538 - val_accuracy: 0.9838 - lr: 1.2500e-04\n",
      "Epoch 28/35\n",
      "525/525 - 9s - loss: 0.1006 - accuracy: 0.9698 - val_loss: 0.0651 - val_accuracy: 0.9801 - lr: 1.2500e-04\n",
      "Epoch 29/35\n",
      "525/525 - 10s - loss: 0.0951 - accuracy: 0.9703 - val_loss: 0.0655 - val_accuracy: 0.9808 - lr: 1.2500e-04\n",
      "Epoch 30/35\n",
      "525/525 - 9s - loss: 0.0951 - accuracy: 0.9711 - val_loss: 0.0547 - val_accuracy: 0.9840 - lr: 1.2500e-04\n",
      "Epoch 31/35\n",
      "525/525 - 9s - loss: 0.0966 - accuracy: 0.9698 - val_loss: 0.0561 - val_accuracy: 0.9838 - lr: 1.2500e-04\n",
      "Epoch 32/35\n",
      "525/525 - 10s - loss: 0.0947 - accuracy: 0.9710 - val_loss: 0.0531 - val_accuracy: 0.9839 - lr: 1.2500e-04\n",
      "Epoch 33/35\n",
      "\n",
      "Epoch 00033: ReduceLROnPlateau reducing learning rate to 6.25000029685907e-05.\n",
      "525/525 - 10s - loss: 0.0933 - accuracy: 0.9716 - val_loss: 0.0556 - val_accuracy: 0.9832 - lr: 1.2500e-04\n",
      "Epoch 34/35\n",
      "525/525 - 9s - loss: 0.0949 - accuracy: 0.9707 - val_loss: 0.0547 - val_accuracy: 0.9838 - lr: 6.2500e-05\n",
      "Epoch 35/35\n",
      "525/525 - 9s - loss: 0.0890 - accuracy: 0.9711 - val_loss: 0.0568 - val_accuracy: 0.9817 - lr: 6.2500e-05\n"
     ]
    }
   ],
   "source": [
    "batch_size = 64\n",
    "epochs = 35\n",
    "history = model.fit(\n",
    "    datagen.flow(X_train, y_train, batch_size = batch_size),\n",
    "    epochs = epochs, \n",
    "    validation_data = (X_val, y_val),\n",
    "    verbose = 2, \n",
    "    steps_per_epoch = X_train.shape[0] // batch_size,\n",
    "    callbacks=[learning_rate_reduction],\n",
    ")"
   ]
  },
  {
   "cell_type": "code",
   "execution_count": 14,
   "metadata": {},
   "outputs": [
    {
     "data": {
      "image/png": "[encoded data removed]",
      "text/plain": [
       "<Figure size 432x288 with 2 Axes>"
      ]
     },
     "metadata": {
      "needs_background": "light"
     },
     "output_type": "display_data"
    }
   ],
   "source": [
    "# Plot the loss and accuracy curves for training and validation \n",
    "fig, ax = plt.subplots(2,1)\n",
    "ax[0].plot(history.history['loss'], color='b', label=\"Training loss\")\n",
    "ax[0].plot(history.history['val_loss'], color='r', label=\"validation loss\",axes =ax[0])\n",
    "legend = ax[0].legend(loc='best', shadow=True)\n",
    "\n",
    "ax[1].plot(history.history['accuracy'], color='b', label=\"Training accuracy\")\n",
    "ax[1].plot(history.history['val_accuracy'], color='r',label=\"Validation accuracy\")\n",
    "legend = ax[1].legend(loc='best', shadow=True)"
   ]
  },
  {
   "cell_type": "code",
   "execution_count": 15,
   "metadata": {},
   "outputs": [
    {
     "data": {
      "image/png": "[encoded data removed]",
      "text/plain": [
       "<Figure size 432x288 with 2 Axes>"
      ]
     },
     "metadata": {
      "needs_background": "light"
     },
     "output_type": "display_data"
    }
   ],
   "source": [
    "# Plot the loss and accuracy curves for training and validation \n",
    "fig, ax = plt.subplots(2,1)\n",
    "ax[0].plot(history.history['loss'], color='b', label=\"Training loss\")\n",
    "ax[0].plot(history.history['val_loss'], color='r', label=\"validation loss\",axes =ax[0])\n",
    "legend = ax[0].legend(loc='best', shadow=True)\n",
    "\n",
    "ax[1].plot(history.history['accuracy'], color='b', label=\"Training accuracy\")\n",
    "ax[1].plot(history.history['val_accuracy'], color='r',label=\"Validation accuracy\")\n",
    "legend = ax[1].legend(loc='best', shadow=True)"
   ]
  },
  {
   "cell_type": "markdown",
   "metadata": {},
   "source": [
    "# Submission"
   ]
  },
  {
   "cell_type": "code",
   "execution_count": 16,
   "metadata": {},
   "outputs": [],
   "source": [
    "# predict results\n",
    "results = model.predict(test)\n",
    "\n",
    "# select the indix with the maximum probability\n",
    "results = np.argmax(results,axis = 1)\n",
    "\n",
    "results = pd.Series(results,name=\"Label\")"
   ]
  },
  {
   "cell_type": "code",
   "execution_count": 17,
   "metadata": {},
   "outputs": [],
   "source": [
    "submission = pd.concat([pd.Series(range(1,28001),name = \"ImageId\"),results],axis = 1)\n",
    "\n",
    "submission.to_csv(\"submission_digit_recognizer.csv\",index=False)"
   ]
  },
  {
   "cell_type": "code",
   "execution_count": null,
   "metadata": {},
   "outputs": [],
   "source": []
  },
  {
   "cell_type": "code",
   "execution_count": null,
   "metadata": {},
   "outputs": [],
   "source": []
  }
 ],
 "metadata": {
  "kernelspec": {
   "display_name": "tensorflow-gpu",
   "language": "python",
   "name": "tensorflow-gpu"
  },
  "language_info": {
   "codemirror_mode": {
    "name": "ipython",
    "version": 3
   },
   "file_extension": ".py",
   "mimetype": "text/x-python",
   "name": "python",
   "nbconvert_exporter": "python",
   "pygments_lexer": "ipython3",
   "version": "3.7.0"
  }
 },
 "nbformat": 4,
 "nbformat_minor": 4
}
